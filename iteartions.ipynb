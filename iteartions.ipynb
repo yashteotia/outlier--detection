{
 "cells": [
  {
   "cell_type": "code",
   "execution_count": 38,
   "metadata": {
    "colab": {},
    "colab_type": "code",
    "id": "ui8sLPSG55U_"
   },
   "outputs": [],
   "source": [
    "import numpy as np \n",
    "import matplotlib.pyplot as plt \n",
    "import statistics \n",
    "  \n",
    "def estimate_coef(x, y): \n",
    "    # number of observations/points \n",
    "    n = np.size(x) \n",
    "  \n",
    "    # mean of x and y vector \n",
    "    m_x, m_y = np.mean(x), np.mean(y) \n",
    "  \n",
    "    # calculating cross-deviation and deviation about x \n",
    "    SS_xy = np.sum(y*x) - n*m_y*m_x \n",
    "    SS_xx = np.sum(x*x) - n*m_x*m_x \n",
    "  \n",
    "    # calculating regression coefficients \n",
    "    b_1 = SS_xy / SS_xx \n",
    "    b_0 = m_y - b_1*m_x \n",
    "  \n",
    "    return(b_0, b_1) \n"
   ]
  },
  {
   "cell_type": "code",
   "execution_count": 39,
   "metadata": {
    "colab": {},
    "colab_type": "code",
    "id": "wY56YWsK6E8P"
   },
   "outputs": [],
   "source": [
    "def plot_regression_line(x, y, b): \n",
    "    # plotting the actual points as scatter plot \n",
    "    plt.scatter(x, y, color = \"m\", \n",
    "               marker = \"o\", s = 30) \n",
    "  \n",
    "    # predicted response vector \n",
    "    y_pred = b[0] + b[1]*x \n",
    "  \n",
    "    # plotting the regression line \n",
    "    plt.plot(x, y_pred, color = \"g\") \n",
    "  \n",
    "    # putting labels \n",
    "    plt.xlabel('x') \n",
    "    plt.ylabel('y') \n",
    "  \n",
    "    # function to show plot \n",
    "    plt.show()"
   ]
  },
  {
   "cell_type": "code",
   "execution_count": 40,
   "metadata": {
    "colab": {},
    "colab_type": "code",
    "id": "_STeaiVc60gZ"
   },
   "outputs": [],
   "source": [
    "def predictiony(x,y,b):\n",
    "    chi= []\n",
    "    # predicted response vector \n",
    "    y_pred = b[0] + b[1]*x \n",
    "    chi.append(y_pred)\n",
    "    return chi"
   ]
  },
  {
   "cell_type": "code",
   "execution_count": 41,
   "metadata": {
    "colab": {
     "base_uri": "https://localhost:8080/",
     "height": 777
    },
    "colab_type": "code",
    "id": "IeSHkjwZ6PcM",
    "outputId": "d7ff7cba-05b4-420f-f5d2-95a4f774c069"
   },
   "outputs": [
    {
     "data": {
      "image/png": "[encoded data removed]",
      "text/plain": [
       "<Figure size 432x288 with 1 Axes>"
      ]
     },
     "metadata": {
      "needs_background": "light"
     },
     "output_type": "display_data"
    },
    {
     "name": "stdout",
     "output_type": "stream",
     "text": [
      "predicted values of y are\n",
      "[array([-2.934181  , -0.54487659,  1.84442782,  4.23373224,  6.62303665,\n",
      "        9.01234106, 11.40164547, 13.79094989, 16.1802543 , 18.56955871,\n",
      "       20.95886313, 25.73747195, 28.12677636])]\n",
      "Difference between y and predicted value of y is\n",
      "[[-3.934181   -3.54487659 -0.15557218 -0.76626776 -0.37696335  1.01234106\n",
      "   3.40164547  4.79094989  6.1802543   6.56955871 -3.04113687 -2.26252805\n",
      "  -7.87322364]]\n",
      "absolute value of this difference list is\n",
      "[array([3.934181  , 3.54487659, 0.15557218, 0.76626776, 0.37696335,\n",
      "       1.01234106, 3.40164547, 4.79094989, 6.1802543 , 6.56955871,\n",
      "       3.04113687, 2.26252805, 7.87322364])]\n",
      "MSE-ERROR\n",
      "17.08126690063863\n",
      " 99 percentile value of list of difference\n",
      "7.716783844427822\n",
      "--------------------------------------------------------------------\n"
     ]
    }
   ],
   "source": [
    " \n",
    "# observations \n",
    "x = np.array([0, 1, 2, 3, 4, 5, 6, 7, 8, 9,10,12,13]) \n",
    "y = np.array([1, 3, 2, 5, 7, 8, 8, 9, 10, 12,24,28,36])  \n",
    "# estimating coefficients \n",
    "b = estimate_coef(x, y) \n",
    "l = predictiony(x,y,b)\n",
    "# plotting regression line  \n",
    "plot_regression_line(x, y, b)\n",
    "mse=[]\n",
    "print(\"predicted values of y are\")\n",
    "print(l)\n",
    "print(\"Difference between y and predicted value of y is\")\n",
    "res= l-y\n",
    "print(res)\n",
    "print(\"absolute value of this difference list is\")\n",
    "rest = list(map(abs, res))\n",
    "print(rest)\n",
    "print(\"MSE-ERROR\")\n",
    "MSE = np.square(np.subtract(y,l)).mean()\n",
    "print(MSE)\n",
    "mse.append(MSE)\n",
    "print(\" 99 percentile value of list of difference\")\n",
    "k =np.percentile(rest,99)\n",
    "print(k)\n",
    "print(\"--------------------------------------------------------------------\")\n",
    "# We will remove all values from xandy which has values > k in there index of difference list \n",
    "# AS last index value of difference list has value 7.87 which is greater than 7.71 that is 99 percentile \n",
    "    \n",
    "\n",
    "\n",
    "      \n"
   ]
  },
  {
   "cell_type": "code",
   "execution_count": 42,
   "metadata": {
    "colab": {},
    "colab_type": "code",
    "id": "_0VjctiGAk__"
   },
   "outputs": [
    {
     "data": {
      "image/png": "[encoded data removed]",
      "text/plain": [
       "<Figure size 432x288 with 1 Axes>"
      ]
     },
     "metadata": {
      "needs_background": "light"
     },
     "output_type": "display_data"
    },
    {
     "name": "stdout",
     "output_type": "stream",
     "text": [
      "predicted values of y are\n",
      "[array([-1.48574502,  0.52662722,  2.53899946,  4.55137171,  6.56374395,\n",
      "        8.57611619, 10.58848843, 12.60086068, 14.61323292, 16.62560516,\n",
      "       18.63797741, 22.66272189])]\n",
      "Difference between y and predicted value of y is\n",
      "[[-2.48574502 -2.47337278  0.53899946 -0.44862829 -0.43625605  0.57611619\n",
      "   2.58848843  3.60086068  4.61323292  4.62560516 -5.36202259 -5.33727811]]\n",
      "absolute value of this difference list is\n",
      "[array([2.48574502, 2.47337278, 0.53899946, 0.44862829, 0.43625605,\n",
      "       0.57611619, 2.58848843, 3.60086068, 4.61323292, 4.62560516,\n",
      "       5.36202259, 5.33727811])]\n",
      "MSE-ERROR\n",
      "11.074412766720462\n",
      " 99 percentile value of list of difference\n",
      "5.3593006993007\n",
      "--------------------------------------------------------------------\n"
     ]
    }
   ],
   "source": [
    "\n",
    "# observations \n",
    "x = np.array([0, 1, 2, 3, 4, 5, 6, 7, 8, 9,10,12]) \n",
    "y = np.array([1, 3, 2, 5, 7, 8, 8, 9, 10, 12,24,28])  \n",
    "# estimating coefficients \n",
    "b = estimate_coef(x, y) \n",
    "l = predictiony(x,y,b)\n",
    "# plotting regression line  \n",
    "plot_regression_line(x, y, b)\n",
    "print(\"predicted values of y are\")\n",
    "print(l)\n",
    "print(\"Difference between y and predicted value of y is\")\n",
    "res= l-y\n",
    "print(res)\n",
    "print(\"absolute value of this difference list is\")\n",
    "rest = list(map(abs, res))\n",
    "print(rest)\n",
    "print(\"MSE-ERROR\")\n",
    "MSE = np.square(np.subtract(y,l)).mean()\n",
    "print(MSE)\n",
    "mse.append(MSE)\n",
    "print(\" 99 percentile value of list of difference\")\n",
    "k =np.percentile(rest,99)\n",
    "print(k)\n",
    "print(\"--------------------------------------------------------------------\")\n",
    "# We will remove all values from xandy which has values > k in there index of difference list \n",
    "# AS second last index value of difference list has value 5.362  which is greater than 5.3593 that is 99 percentile\n",
    "\n",
    "\n",
    "\n",
    "\n",
    "\n"
   ]
  },
  {
   "cell_type": "code",
   "execution_count": 43,
   "metadata": {},
   "outputs": [
    {
     "data": {
      "image/png": "[encoded data removed]",
      "text/plain": [
       "<Figure size 432x288 with 1 Axes>"
      ]
     },
     "metadata": {
      "needs_background": "light"
     },
     "output_type": "display_data"
    },
    {
     "name": "stdout",
     "output_type": "stream",
     "text": [
      "predicted values of y are\n",
      "[array([-0.97142857,  0.84761905,  2.66666667,  4.48571429,  6.3047619 ,\n",
      "        8.12380952,  9.94285714, 11.76190476, 13.58095238, 15.4       ,\n",
      "       20.85714286])]\n",
      "Difference between y and predicted value of y is\n",
      "[[-1.97142857 -2.15238095  0.66666667 -0.51428571 -0.6952381   0.12380952\n",
      "   1.94285714  2.76190476  3.58095238  3.4        -7.14285714]]\n",
      "absolute value of this difference list is\n",
      "[array([1.97142857, 2.15238095, 0.66666667, 0.51428571, 0.6952381 ,\n",
      "       0.12380952, 1.94285714, 2.76190476, 3.58095238, 3.4       ,\n",
      "       7.14285714])]\n",
      "MSE-ERROR\n",
      "8.775757575757574\n",
      " 99 percentile value of list of difference\n",
      "6.786666666666664\n",
      "--------------------------------------------------------------------\n"
     ]
    }
   ],
   "source": [
    "\n",
    "# observations \n",
    "x = np.array([0, 1, 2, 3, 4, 5, 6, 7, 8, 9,12]) \n",
    "y = np.array([1, 3, 2, 5, 7, 8, 8, 9, 10, 12,28])  \n",
    "# estimating coefficients \n",
    "b = estimate_coef(x, y) \n",
    "l = predictiony(x,y,b)\n",
    "# plotting regression line  \n",
    "plot_regression_line(x, y, b)\n",
    "\n",
    "print(\"predicted values of y are\")\n",
    "print(l)\n",
    "print(\"Difference between y and predicted value of y is\")\n",
    "res= l-y\n",
    "print(res)\n",
    "print(\"absolute value of this difference list is\")\n",
    "rest = list(map(abs, res))\n",
    "print(rest)\n",
    "print(\"MSE-ERROR\")\n",
    "MSE = np.square(np.subtract(y,l)).mean()\n",
    "print(MSE)\n",
    "mse.append(MSE)\n",
    "print(\" 99 percentile value of list of difference\")\n",
    "k =np.percentile(rest,99)\n",
    "print(k)\n",
    "print(\"--------------------------------------------------------------------\")\n",
    "# We will remove all values from xandy which has values > k in there index of difference list \n",
    "# AS  last index value of difference list has value 7.14  which is greater than 6.78 that is 99 percentile\n",
    "\n",
    "\n",
    "\n",
    "\n",
    "\n",
    "\n"
   ]
  },
  {
   "cell_type": "code",
   "execution_count": 44,
   "metadata": {},
   "outputs": [
    {
     "data": {
      "image/png": "[encoded data removed]",
      "text/plain": [
       "<Figure size 432x288 with 1 Axes>"
      ]
     },
     "metadata": {
      "needs_background": "light"
     },
     "output_type": "display_data"
    },
    {
     "name": "stdout",
     "output_type": "stream",
     "text": [
      "predicted values of y are\n",
      "[array([ 1.23636364,  2.40606061,  3.57575758,  4.74545455,  5.91515152,\n",
      "        7.08484848,  8.25454545,  9.42424242, 10.59393939, 11.76363636])]\n",
      "Difference between y and predicted value of y is\n",
      "[[ 0.23636364 -0.59393939  1.57575758 -0.25454545 -1.08484848 -0.91515152\n",
      "   0.25454545  0.42424242  0.59393939 -0.23636364]]\n",
      "absolute value of this difference list is\n",
      "[array([0.23636364, 0.59393939, 1.57575758, 0.25454545, 1.08484848,\n",
      "       0.91515152, 0.25454545, 0.42424242, 0.59393939, 0.23636364])]\n",
      "MSE-ERROR\n",
      "0.5624242424242423\n",
      " 99 percentile value of list of difference\n",
      "1.5315757575757576\n",
      "--------------------------------------------------------------------\n"
     ]
    }
   ],
   "source": [
    "\n",
    "# observations \n",
    "x = np.array([0, 1, 2, 3, 4, 5, 6, 7, 8, 9]) \n",
    "y = np.array([1, 3, 2, 5, 7, 8, 8, 9, 10, 12])  \n",
    "# estimating coefficients \n",
    "b = estimate_coef(x, y) \n",
    "l = predictiony(x,y,b)\n",
    "# plotting regression line  \n",
    "plot_regression_line(x, y, b)\n",
    "\n",
    "print(\"predicted values of y are\")\n",
    "print(l)\n",
    "print(\"Difference between y and predicted value of y is\")\n",
    "res= l-y\n",
    "print(res)\n",
    "print(\"absolute value of this difference list is\")\n",
    "rest = list(map(abs, res))\n",
    "print(rest)\n",
    "print(\"MSE-ERROR\")\n",
    "MSE = np.square(np.subtract(y,l)).mean()\n",
    "print(MSE)\n",
    "mse.append(MSE)\n",
    "print(\" 99 percentile value of list of difference\")\n",
    "k =np.percentile(rest,99)\n",
    "print(k)\n",
    "print(\"--------------------------------------------------------------------\")\n",
    "# We will remove all values from xandy which has values > k in there index of difference list \n",
    "# AS  3rd index value of difference list has value 1.57  which is greater than 1.53 that is 99 percentile\n",
    "\n",
    "\n",
    "\n",
    "\n",
    "\n"
   ]
  },
  {
   "cell_type": "code",
   "execution_count": 45,
   "metadata": {},
   "outputs": [
    {
     "data": {
      "image/png": "[encoded data removed]",
      "text/plain": [
       "<Figure size 432x288 with 1 Axes>"
      ]
     },
     "metadata": {
      "needs_background": "light"
     },
     "output_type": "display_data"
    },
    {
     "name": "stdout",
     "output_type": "stream",
     "text": [
      "predicted values of y are\n",
      "[array([ 1.68823529,  2.8       ,  5.02352941,  6.13529412,  7.24705882,\n",
      "        8.35882353,  9.47058824, 10.58235294, 11.69411765])]\n",
      "Difference between y and predicted value of y is\n",
      "[[ 0.68823529 -0.2         0.02352941 -0.86470588 -0.75294118  0.35882353\n",
      "   0.47058824  0.58235294 -0.30588235]]\n",
      "absolute value of this difference list is\n",
      "[array([0.68823529, 0.2       , 0.02352941, 0.86470588, 0.75294118,\n",
      "       0.35882353, 0.47058824, 0.58235294, 0.30588235])]\n",
      "MSE-ERROR\n",
      "0.29019607843137263\n",
      " 99 percentile value of list of difference\n",
      "0.8557647058823525\n",
      "--------------------------------------------------------------------\n"
     ]
    }
   ],
   "source": [
    "\n",
    "# observations \n",
    "x = np.array([0, 1,  3, 4, 5, 6, 7, 8, 9]) \n",
    "y = np.array([1, 3,  5, 7, 8, 8, 9, 10, 12])  \n",
    "# estimating coefficients \n",
    "b = estimate_coef(x, y) \n",
    "l = predictiony(x,y,b)\n",
    "# plotting regression line  \n",
    "plot_regression_line(x, y, b)\n",
    "\n",
    "print(\"predicted values of y are\")\n",
    "print(l)\n",
    "print(\"Difference between y and predicted value of y is\")\n",
    "res= l-y\n",
    "print(res)\n",
    "print(\"absolute value of this difference list is\")\n",
    "rest = list(map(abs, res))\n",
    "print(rest)\n",
    "print(\"MSE-ERROR\")\n",
    "MSE = np.square(np.subtract(y,l)).mean()\n",
    "print(MSE)\n",
    "mse.append(MSE)\n",
    "print(\" 99 percentile value of list of difference\")\n",
    "k =np.percentile(rest,99)\n",
    "print(k)\n",
    "print(\"--------------------------------------------------------------------\")\n",
    "# We will remove all values from xandy which has values > k in there index of difference list \n",
    "# AS  3rd index value of difference list has value 1.57  which is greater than 1.53 that is 99 percentile\n",
    "\n",
    "\n",
    "\n",
    "\n",
    "\n",
    "\n"
   ]
  },
  {
   "cell_type": "code",
   "execution_count": 46,
   "metadata": {
    "scrolled": true
   },
   "outputs": [
    {
     "name": "stdout",
     "output_type": "stream",
     "text": [
      "[17.08126690063863, 11.074412766720462, 8.775757575757574, 0.5624242424242423, 0.29019607843137263]\n"
     ]
    }
   ],
   "source": [
    "print(mse)\n",
    "#2nd last line is the best model "
   ]
  },
  {
   "cell_type": "code",
   "execution_count": 47,
   "metadata": {},
   "outputs": [
    {
     "data": {
      "image/png": "[encoded data removed]",
      "text/plain": [
       "<Figure size 432x288 with 1 Axes>"
      ]
     },
     "metadata": {
      "needs_background": "light"
     },
     "output_type": "display_data"
    }
   ],
   "source": [
    "datapoints = [14,13,12,11,10]\n",
    "plt.scatter(datapoints, mse, c='r', )\n",
    "plt.xlabel('No. of data points')\n",
    "plt.ylabel('MSE ERROR VALUE')\n",
    "plt.title('Fitting MSE VS DATA-POINTS')\n",
    "plt.show()"
   ]
  },
  {
   "cell_type": "code",
   "execution_count": 58,
   "metadata": {},
   "outputs": [
    {
     "name": "stdout",
     "output_type": "stream",
     "text": [
      "value shows how many times we must delete to get outlier removed\n",
      "3\n"
     ]
    }
   ],
   "source": [
    "max_diff_bw_two_consecutive_no=0\n",
    "for i in range(0,len(mse)):\n",
    "    if mse[i-1]-mse[i]>max_diff_bw_two_consecutive_no:\n",
    "        max_diff_bw_two_consecutive_no=mse[i-1]-mse[i]\n",
    "        ind=i\n",
    "    else:\n",
    "        continue\n",
    "print(\"value shows how many times we must delete to get outlier removed\")        \n",
    "print(ind)\n",
    "\n",
    "\n",
    "    "
   ]
  },
  {
   "cell_type": "code",
   "execution_count": null,
   "metadata": {},
   "outputs": [],
   "source": []
  }
 ],
 "metadata": {
  "colab": {
   "collapsed_sections": [],
   "name": "iteartions.ipynb",
   "provenance": []
  },
  "kernelspec": {
   "display_name": "Python 3",
   "language": "python",
   "name": "python3"
  },
  "language_info": {
   "codemirror_mode": {
    "name": "ipython",
    "version": 3
   },
   "file_extension": ".py",
   "mimetype": "text/x-python",
   "name": "python",
   "nbconvert_exporter": "python",
   "pygments_lexer": "ipython3",
   "version": "3.7.3"
  },
  "varInspector": {
   "cols": {
    "lenName": 16,
    "lenType": 16,
    "lenVar": 40
   },
   "kernels_config": {
    "python": {
     "delete_cmd_postfix": "",
     "delete_cmd_prefix": "del ",
     "library": "var_list.py",
     "varRefreshCmd": "print(var_dic_list())"
    },
    "r": {
     "delete_cmd_postfix": ") ",
     "delete_cmd_prefix": "rm(",
     "library": "var_list.r",
     "varRefreshCmd": "cat(var_dic_list()) "
    }
   },
   "types_to_exclude": [
    "module",
    "function",
    "builtin_function_or_method",
    "instance",
    "_Feature"
   ],
   "window_display": false
  }
 },
 "nbformat": 4,
 "nbformat_minor": 1
}
